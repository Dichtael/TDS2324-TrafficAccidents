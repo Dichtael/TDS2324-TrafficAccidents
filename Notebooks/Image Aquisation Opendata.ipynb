{
 "cells": [
  {
   "cell_type": "code",
   "execution_count": 1,
   "metadata": {},
   "outputs": [],
   "source": [
    "from pyproj import Proj, transform\n",
    "import xml.etree.ElementTree as ET\n",
    "import tqdm\n",
    "import urllib.request\n",
    "from PIL import Image\n",
    "import os"
   ]
  },
  {
   "cell_type": "markdown",
   "metadata": {},
   "source": [
    "# Image quisation from Open Bayern Data\n",
    "https://atlas.bayern.de/?c=670229,5335010&z=10&l=vt_luftbild,https%3A%2F%2Fgeodaten.bayern.de%2Fodd%2Fa%2Fdop40%2Fmeta%2Fkml%2Fgemeinde.kml&t=ba\n",
    "\n",
    "In this \n",
    "\n",
    "## Downloading the images\n",
    "We iterate through the metalink.meta4 file and make each urllink in a list. Afterwards this list is use to dowload all the images which are in 1km x 1km of munich in a 2500px x 2500px resolution which means that one pixel covers 0.4m in real."
   ]
  },
  {
   "cell_type": "code",
   "execution_count": null,
   "metadata": {},
   "outputs": [],
   "source": [
    "\n",
    "# add folder path to project\n",
    "folder_path = \"C:\\Projekte\\TDS\\TDS2324-TrafficAccidents\\Data\\Images\\\\1km_img\"\n",
    "\n",
    "# create folder if not exists\n",
    "if not os.path.exists(folder_path):\n",
    "    os.makedirs(folder_path)\n",
    "\n",
    "# getting list of all urls\n",
    "tree = ET.parse('C:\\Projekte\\TDS\\TDS2324-TrafficAccidents\\Data\\metalink.meta4')\n",
    "urls = []\n",
    "\n",
    "for file_element in tree.findall('.//{urn:ietf:params:xml:ns:metalink}url'):\n",
    "    if any(file_element.text.split(\"data\")[1] in s for s in urls):\n",
    "      continue\n",
    "    else:\n",
    "      urls.append(file_element.text)\n",
    "\n",
    "# downloading all images\n",
    "for url in tqdm.tqdm(urls):\n",
    "  file_name = url.split(\"data\")[1]\n",
    "  if os.path.isfile(folder_path + file_name):\n",
    "    continue\n",
    "  else:\n",
    "    urllib.request.urlretrieve(url, folder_path + file_name)"
   ]
  },
  {
   "cell_type": "markdown",
   "metadata": {},
   "source": [
    "## Rename Files \n",
    "First we rename the files in the epsg:25832 formatsince they are not correctly in this format yet"
   ]
  },
  {
   "cell_type": "code",
   "execution_count": null,
   "metadata": {},
   "outputs": [],
   "source": [
    "filepath = 'C:\\\\Projekte\\\\TDS\\\\TDS2324-TrafficAccidents\\\\Data\\\\Images\\\\1km_img'\n",
    "# method to get coordinates from filename\n",
    "def get_coordinates(filename):\n",
    "  x = filename.split(\"_\")[0]\n",
    "  y = filename.split(\"_\")[1].split(\".\")[0]\n",
    "\n",
    "  # remove leading '32' from x and add 3 zeros\n",
    "  x = x[2:]\n",
    "  x = x + \"000\"\n",
    "\n",
    "  # add 3 zeros to y\n",
    "  y = y + \"000\"\n",
    "  return x, y\n",
    "\n",
    "# Iterate through files in filepath and rename them to coordinates\n",
    "for filename in os.listdir(filepath):\n",
    "  x, y = get_coordinates(filename)\n",
    "  old_filepath = filepath + \"\\\\\" + filename\n",
    "  new_filepath = filepath + \"\\\\\" + x + \"_\" + y + \".tif\"\n",
    "\n",
    "  os.rename(old_filepath, new_filepath)\n"
   ]
  },
  {
   "cell_type": "markdown",
   "metadata": {},
   "source": [
    "## Slicing in 40m x 40m images\n",
    "Now we slice the images in a 40m x 40m image"
   ]
  },
  {
   "cell_type": "code",
   "execution_count": 48,
   "metadata": {},
   "outputs": [
    {
     "name": "stderr",
     "output_type": "stream",
     "text": [
      "  0%|          | 0/374 [00:00<?, ?it/s]"
     ]
    },
    {
     "name": "stderr",
     "output_type": "stream",
     "text": [
      "100%|██████████| 374/374 [13:03<00:00,  2.09s/it]\n"
     ]
    }
   ],
   "source": [
    "folder_path_1km = 'C:\\\\Projekte\\\\TDS\\\\TDS2324-TrafficAccidents\\\\Data\\\\Images\\\\1km_img'\n",
    "\n",
    "# Create folder for sliced pictures\n",
    "folder_path_40m = 'C:\\\\Projekte\\\\TDS\\\\TDS2324-TrafficAccidents\\\\Data\\\\Images\\\\40m_img'\n",
    "os.makedirs(folder_path_40m, exist_ok=True)\n",
    "\n",
    "\n",
    "# method to get coordinates from a given filename\n",
    "def get_coordinates(filename):\n",
    "    # Splitting using underscores and removing the file extension\n",
    "    parts = filename.split(\"_\")\n",
    "    \n",
    "    # Extracting x and y coordinates\n",
    "    x = parts[0]\n",
    "    y = parts[1].split(\".\")[0]\n",
    "    \n",
    "    return x, y\n",
    "\n",
    "# Iterate through files in the folder\n",
    "for filename in tqdm.tqdm(os.listdir(folder_path_1km)):\n",
    "  \n",
    "    # subfolder in which the sliced pictures will be saved, named after original picture so they are sorted\n",
    "    new_foldername = folder_path_40m + \"\\\\\" + filename.rsplit(\".\")[0]\n",
    "    os.makedirs(new_foldername, exist_ok=True)\n",
    "\n",
    "    # get coordinates from filename\n",
    "    x, y = get_coordinates(filename)\n",
    "\n",
    "    # convert x,y in int\n",
    "    x = int(x)\n",
    "    y = int(y)\n",
    "\n",
    "    # Since we start with the upper left corner, we need to add 1000 to y\n",
    "    y = y + 1000\n",
    "\n",
    "    # open image\n",
    "    img = Image.open(folder_path_1km + \"\\\\\" + filename)\n",
    "\n",
    "    # get width and height of image\n",
    "    width, height = img.size\n",
    "\n",
    "    y2 = y\n",
    "    # iterate through image and slice it\n",
    "    for i in range(0, width, 100):\n",
    "        for j in range(0, height, 100):\n",
    "            y2 = int(y2) - 40 \n",
    "            # get bounding box for slicing\n",
    "            box = (i, j, i+100, j+100)\n",
    "            # slice image\n",
    "            a = img.crop(box)\n",
    "            # save image\n",
    "            image_name = str(x) + \"_\" + str(y2) + \".tif\" \n",
    "            a.save(new_foldername + \"\\\\\" + image_name)\n",
    "            \n",
    "        x = x + 40 \n",
    "        y2 = y"
   ]
  },
  {
   "cell_type": "markdown",
   "metadata": {},
   "source": [
    "## Categorize 40m Images\n",
    "\n",
    "1. Get Munich data\n",
    "2. Add feature: epsg:25832 \n",
    "    - Coordinates in epsg:25832 of the accident\n",
    "3. Add feature: image\n",
    "    - Adding the image of the accident\n",
    "4. Create new DF 'accident_count' \n",
    "    - Includes amount of accident foreach picture\n",
    "5. Show distribution of the accident_amount per picture\n",
    "6. Categorize each picture and rename it according its category\n",
    "\n",
    "### 1: Get Munich data"
   ]
  },
  {
   "cell_type": "code",
   "execution_count": 12,
   "metadata": {},
   "outputs": [
    {
     "name": "stdout",
     "output_type": "stream",
     "text": [
      "   xgcswgs84  ygcswgs84\n",
      "0  11.615121  48.112151\n",
      "1  11.524172  48.127725\n",
      "2  11.536799  48.146921\n",
      "3  11.695126  48.115499\n",
      "4  11.613230  48.186879\n",
      "5  11.477048  48.115608\n",
      "6  11.487404  48.086448\n",
      "7  11.671945  48.119598\n",
      "8  11.527980  48.079697\n",
      "9  11.441178  48.145657\n",
      "(33806, 2)\n",
      "<class 'pandas.core.frame.DataFrame'>\n",
      "RangeIndex: 33806 entries, 0 to 33805\n",
      "Data columns (total 2 columns):\n",
      " #   Column     Non-Null Count  Dtype  \n",
      "---  ------     --------------  -----  \n",
      " 0   xgcswgs84  33806 non-null  float64\n",
      " 1   ygcswgs84  33806 non-null  float64\n",
      "dtypes: float64(2)\n",
      "memory usage: 528.3 KB\n",
      "None\n"
     ]
    }
   ],
   "source": [
    "import pandas as pd\n",
    "\n",
    "# Load the CSV file\n",
    "data = pd.read_csv('C:\\Projekte\\TDS\\TDS2324-TrafficAccidents\\Data\\\\all_16_22.csv', dtype={'ags': str})\n",
    "\n",
    "# saving the data for the city of munich and make new index\n",
    "munich = data[data['ags'] == '09162000'].reset_index(drop=True)\n",
    "\n",
    "# drop all columns except for the ones we need\n",
    "munich = munich[['xgcswgs84', 'ygcswgs84']]\n",
    "\n",
    "# Show the resulting dataframe\n",
    "print(munich.head(10))\n"
   ]
  },
  {
   "cell_type": "markdown",
   "metadata": {},
   "source": [
    "### 2: Add epsg:25832 coordinates\n",
    "We add feature x_epsg:25832 and y_epsg:25832, so we can check in which picture our accident happened."
   ]
  },
  {
   "cell_type": "code",
   "execution_count": 14,
   "metadata": {},
   "outputs": [
    {
     "name": "stdout",
     "output_type": "stream",
     "text": [
      "   xgcswgs84  ygcswgs84   x_epsg:25832  y_epsg:25832\n",
      "0  11.615121  48.112151  694645.808823  5.332073e+06\n",
      "1  11.524172  48.127725  687820.079094  5.333578e+06\n",
      "2  11.536799  48.146921  688689.196965  5.335742e+06\n",
      "3  11.695126  48.115499  700587.159319  5.332651e+06\n",
      "4  11.613230  48.186879  694222.709996  5.340374e+06\n"
     ]
    },
    {
     "name": "stderr",
     "output_type": "stream",
     "text": [
      "c:\\Users\\miche\\AppData\\Local\\Programs\\Python\\Python311\\Lib\\site-packages\\pyproj\\crs\\crs.py:141: FutureWarning: '+init=<authority>:<code>' syntax is deprecated. '<authority>:<code>' is the preferred initialization method. When making the change, be mindful of axis order changes: https://pyproj4.github.io/pyproj/stable/gotchas.html#axis-order-changes-in-proj-6\n",
      "  in_crs_string = _prepare_from_proj_string(in_crs_string)\n",
      "c:\\Users\\miche\\AppData\\Local\\Programs\\Python\\Python311\\Lib\\site-packages\\pyproj\\crs\\crs.py:141: FutureWarning: '+init=<authority>:<code>' syntax is deprecated. '<authority>:<code>' is the preferred initialization method. When making the change, be mindful of axis order changes: https://pyproj4.github.io/pyproj/stable/gotchas.html#axis-order-changes-in-proj-6\n",
      "  in_crs_string = _prepare_from_proj_string(in_crs_string)\n",
      "C:\\Users\\miche\\AppData\\Local\\Temp\\ipykernel_10288\\1970737433.py:8: FutureWarning: This function is deprecated. See: https://pyproj4.github.io/pyproj/stable/gotchas.html#upgrading-to-pyproj-2-from-pyproj-1\n",
      "  munich['x_epsg:25832'], munich['y_epsg:25832'] = transform(wgs84, epsg25832, munich['xgcswgs84'], munich['ygcswgs84'])\n"
     ]
    }
   ],
   "source": [
    "from pyproj import Proj, transform\n",
    "\n",
    "# Define the coordinate systems\n",
    "wgs84 = Proj(init='epsg:4326')\n",
    "epsg25832 = Proj(init='epsg:25832')\n",
    "\n",
    "# Convert the coordinates from WGS84 to epsg:25832\n",
    "munich['x_epsg:25832'], munich['y_epsg:25832'] = transform(wgs84, epsg25832, munich['xgcswgs84'], munich['ygcswgs84'])\n",
    "\n",
    "# Show the updated dataframe\n",
    "print(munich.head())\n",
    "\n"
   ]
  },
  {
   "cell_type": "markdown",
   "metadata": {},
   "source": [
    "### 3: Add image to accident\n",
    "We add to our munich file the image in which the accident happened."
   ]
  },
  {
   "cell_type": "code",
   "execution_count": 25,
   "metadata": {},
   "outputs": [
    {
     "name": "stderr",
     "output_type": "stream",
     "text": [
      "33806it [02:43, 206.96it/s]\n"
     ]
    }
   ],
   "source": [
    "folder_path_40m = 'C:\\\\Projekte\\\\TDS\\\\TDS2324-TrafficAccidents\\\\Data\\\\Images\\\\40m_img'\n",
    "\n",
    "def in_img(x_crd_acc, y_crd_acc, x_crd_img, y_crd_img, crd_range):\n",
    "    return (x_crd_acc >= x_crd_img) and (x_crd_acc <= x_crd_img + crd_range) and (y_crd_acc >= y_crd_img) and (y_crd_acc <= y_crd_img + crd_range)\n",
    "\n",
    "def get_coordinates_subfolder(filename):\n",
    "    parts = filename.split(\"_\")\n",
    "    x = int(parts[0])\n",
    "    y = int(parts[1])\n",
    "    return x, y\n",
    "\n",
    "def get_coordinates(filename):\n",
    "    parts = filename.split(\"_\")\n",
    "    x = int(parts[0])\n",
    "    y = int(parts[1].split(\".\")[0])\n",
    "    \n",
    "    return x, y\n",
    "\n",
    "munich['image_name'] = \"\"\n",
    "\n",
    "for index, row in tqdm.tqdm(munich.iterrows()):\n",
    "    for folder in os.listdir(folder_path_40m):\n",
    "        x_crd_img, y_crd_img = get_coordinates_subfolder(folder)\n",
    "        if in_img(row['x_epsg:25832'], row['y_epsg:25832'], x_crd_img, y_crd_img, 1000):\n",
    "            for img in os.listdir(os.path.join(folder_path_40m, folder)):\n",
    "                x_crd_img, y_crd_img = get_coordinates(img)\n",
    "                if in_img(row['x_epsg:25832'], row['y_epsg:25832'], x_crd_img, y_crd_img, 40):\n",
    "                    munich.at[index, 'image_name'] = os.path.join(img)\n",
    "                    break\n",
    "            else:\n",
    "                continue\n",
    "            break"
   ]
  },
  {
   "cell_type": "code",
   "execution_count": 26,
   "metadata": {},
   "outputs": [
    {
     "data": {
      "text/html": [
       "<div>\n",
       "<style scoped>\n",
       "    .dataframe tbody tr th:only-of-type {\n",
       "        vertical-align: middle;\n",
       "    }\n",
       "\n",
       "    .dataframe tbody tr th {\n",
       "        vertical-align: top;\n",
       "    }\n",
       "\n",
       "    .dataframe thead th {\n",
       "        text-align: right;\n",
       "    }\n",
       "</style>\n",
       "<table border=\"1\" class=\"dataframe\">\n",
       "  <thead>\n",
       "    <tr style=\"text-align: right;\">\n",
       "      <th></th>\n",
       "      <th>xgcswgs84</th>\n",
       "      <th>ygcswgs84</th>\n",
       "      <th>x_epsg:25832</th>\n",
       "      <th>y_epsg:25832</th>\n",
       "      <th>image_name</th>\n",
       "    </tr>\n",
       "  </thead>\n",
       "  <tbody>\n",
       "    <tr>\n",
       "      <th>1585</th>\n",
       "      <td>11.646075</td>\n",
       "      <td>48.138678</td>\n",
       "      <td>696848.106324</td>\n",
       "      <td>5.335100e+06</td>\n",
       "      <td>696840_5335080.tif</td>\n",
       "    </tr>\n",
       "    <tr>\n",
       "      <th>23670</th>\n",
       "      <td>11.559967</td>\n",
       "      <td>48.125659</td>\n",
       "      <td>690491.020802</td>\n",
       "      <td>5.333437e+06</td>\n",
       "      <td>690480_5333400.tif</td>\n",
       "    </tr>\n",
       "    <tr>\n",
       "      <th>9025</th>\n",
       "      <td>11.562784</td>\n",
       "      <td>48.141619</td>\n",
       "      <td>690641.458003</td>\n",
       "      <td>5.335217e+06</td>\n",
       "      <td>690640_5335200.tif</td>\n",
       "    </tr>\n",
       "    <tr>\n",
       "      <th>32743</th>\n",
       "      <td>11.559102</td>\n",
       "      <td>48.147515</td>\n",
       "      <td>690345.806833</td>\n",
       "      <td>5.335863e+06</td>\n",
       "      <td>690320_5335840.tif</td>\n",
       "    </tr>\n",
       "    <tr>\n",
       "      <th>48</th>\n",
       "      <td>11.479691</td>\n",
       "      <td>48.088583</td>\n",
       "      <td>684650.745936</td>\n",
       "      <td>5.329120e+06</td>\n",
       "      <td>684640_5329120.tif</td>\n",
       "    </tr>\n",
       "    <tr>\n",
       "      <th>27923</th>\n",
       "      <td>11.565904</td>\n",
       "      <td>48.188016</td>\n",
       "      <td>690701.405508</td>\n",
       "      <td>5.340381e+06</td>\n",
       "      <td>690680_5340360.tif</td>\n",
       "    </tr>\n",
       "    <tr>\n",
       "      <th>23276</th>\n",
       "      <td>11.578930</td>\n",
       "      <td>48.145205</td>\n",
       "      <td>691829.103917</td>\n",
       "      <td>5.335656e+06</td>\n",
       "      <td>691800_5335640.tif</td>\n",
       "    </tr>\n",
       "    <tr>\n",
       "      <th>20087</th>\n",
       "      <td>11.457820</td>\n",
       "      <td>48.206111</td>\n",
       "      <td>682604.609886</td>\n",
       "      <td>5.342130e+06</td>\n",
       "      <td>682600_5342120.tif</td>\n",
       "    </tr>\n",
       "    <tr>\n",
       "      <th>1558</th>\n",
       "      <td>11.479283</td>\n",
       "      <td>48.123307</td>\n",
       "      <td>684496.022227</td>\n",
       "      <td>5.332979e+06</td>\n",
       "      <td>684480_5332960.tif</td>\n",
       "    </tr>\n",
       "    <tr>\n",
       "      <th>28240</th>\n",
       "      <td>11.590973</td>\n",
       "      <td>48.132637</td>\n",
       "      <td>692771.921909</td>\n",
       "      <td>5.334289e+06</td>\n",
       "      <td>692760_5334280.tif</td>\n",
       "    </tr>\n",
       "  </tbody>\n",
       "</table>\n",
       "</div>"
      ],
      "text/plain": [
       "       xgcswgs84  ygcswgs84   x_epsg:25832  y_epsg:25832          image_name\n",
       "1585   11.646075  48.138678  696848.106324  5.335100e+06  696840_5335080.tif\n",
       "23670  11.559967  48.125659  690491.020802  5.333437e+06  690480_5333400.tif\n",
       "9025   11.562784  48.141619  690641.458003  5.335217e+06  690640_5335200.tif\n",
       "32743  11.559102  48.147515  690345.806833  5.335863e+06  690320_5335840.tif\n",
       "48     11.479691  48.088583  684650.745936  5.329120e+06  684640_5329120.tif\n",
       "27923  11.565904  48.188016  690701.405508  5.340381e+06  690680_5340360.tif\n",
       "23276  11.578930  48.145205  691829.103917  5.335656e+06  691800_5335640.tif\n",
       "20087  11.457820  48.206111  682604.609886  5.342130e+06  682600_5342120.tif\n",
       "1558   11.479283  48.123307  684496.022227  5.332979e+06  684480_5332960.tif\n",
       "28240  11.590973  48.132637  692771.921909  5.334289e+06  692760_5334280.tif"
      ]
     },
     "execution_count": 26,
     "metadata": {},
     "output_type": "execute_result"
    }
   ],
   "source": [
    "munich.sample(10)"
   ]
  },
  {
   "cell_type": "markdown",
   "metadata": {},
   "source": [
    "### 4: Count accidents per image\n",
    "We check how many accidents happened in each image so we have a basis to categorize the images."
   ]
  },
  {
   "cell_type": "code",
   "execution_count": 32,
   "metadata": {},
   "outputs": [
    {
     "name": "stdout",
     "output_type": "stream",
     "text": [
      "                    count\n",
      "image_name               \n",
      "687440_5336040.tif     51\n",
      "686200_5334360.tif     50\n",
      "690120_5335240.tif     48\n",
      "686240_5331760.tif     47\n",
      "689680_5331880.tif     46\n",
      "694960_5332960.tif     43\n",
      "690120_5334720.tif     41\n",
      "690680_5338120.tif     41\n",
      "691800_5335640.tif     39\n",
      "691640_5332760.tif     37\n"
     ]
    }
   ],
   "source": [
    "# Create a new dataframe to store the count of each image\n",
    "image_count = pd.DataFrame(munich['image_name'].value_counts())\n",
    "\n",
    "# Rename the column to 'count'\n",
    "image_count.columns = ['count']\n",
    "\n",
    "# Show the resulting dataframe\n",
    "print(image_count.head(10))\n"
   ]
  },
  {
   "cell_type": "markdown",
   "metadata": {},
   "source": [
    "Since we want to train our model also with images that do not have any accidents at all we add those to our dataset image_count aswell."
   ]
  },
  {
   "cell_type": "code",
   "execution_count": 34,
   "metadata": {},
   "outputs": [
    {
     "name": "stderr",
     "output_type": "stream",
     "text": [
      "100%|██████████| 374/374 [1:06:48<00:00, 10.72s/it]"
     ]
    },
    {
     "name": "stdout",
     "output_type": "stream",
     "text": [
      "                    count\n",
      "image_name               \n",
      "687440_5336040.tif     51\n",
      "686200_5334360.tif     50\n",
      "690120_5335240.tif     48\n",
      "686240_5331760.tif     47\n",
      "689680_5331880.tif     46\n",
      "...                   ...\n",
      "702960_5335800.tif      0\n",
      "702960_5335840.tif      0\n",
      "702960_5335880.tif      0\n",
      "702960_5335920.tif      0\n",
      "702960_5335960.tif      0\n",
      "\n",
      "[233751 rows x 1 columns]\n"
     ]
    },
    {
     "name": "stderr",
     "output_type": "stream",
     "text": [
      "\n"
     ]
    }
   ],
   "source": [
    "folder_path_40m = 'C:\\\\Projekte\\\\TDS\\\\TDS2324-TrafficAccidents\\\\Data\\\\Images\\\\40m_img'\n",
    "\n",
    "# Iterate through subfolders\n",
    "for folder in tqdm.tqdm(os.listdir(folder_path_40m)):\n",
    "    subfolder_path = os.path.join(folder_path_40m, folder)\n",
    "    \n",
    "    # Iterate through images in subfolder\n",
    "    for image in os.listdir(subfolder_path):\n",
    "        image_path = os.path.join(subfolder_path, image)\n",
    "        \n",
    "        # Check if image is not in munich\n",
    "        if image not in image_count.index:\n",
    "            # Add image to image_count with count 0\n",
    "            image_count.loc[image] = 0\n",
    "           \n",
    "\n",
    "# Show the updated image_count dataframe\n",
    "print(image_count)\n"
   ]
  },
  {
   "cell_type": "markdown",
   "metadata": {},
   "source": [
    "### 5: Categorize the images"
   ]
  },
  {
   "cell_type": "code",
   "execution_count": 38,
   "metadata": {},
   "outputs": [
    {
     "name": "stdout",
     "output_type": "stream",
     "text": [
      "count\n",
      "0     219992\n",
      "1       7618\n",
      "2       2544\n",
      "3       1213\n",
      "4        694\n",
      "5        439\n",
      "6        315\n",
      "7        221\n",
      "8        147\n",
      "9        125\n",
      "10        85\n",
      "12        64\n",
      "11        55\n",
      "13        37\n",
      "14        32\n",
      "15        26\n",
      "16        24\n",
      "17        16\n",
      "18        16\n",
      "19        15\n",
      "20        11\n",
      "22         9\n",
      "21         7\n",
      "24         6\n",
      "25         4\n",
      "26         4\n",
      "30         4\n",
      "23         4\n",
      "27         3\n",
      "28         3\n",
      "29         3\n",
      "32         2\n",
      "33         2\n",
      "41         2\n",
      "43         1\n",
      "48         1\n",
      "47         1\n",
      "46         1\n",
      "50         1\n",
      "39         1\n",
      "37         1\n",
      "31         1\n",
      "51         1\n",
      "Name: count, dtype: int64\n"
     ]
    }
   ],
   "source": [
    "count_frequency = image_count['count'].value_counts()\n",
    "print(count_frequency)\n"
   ]
  },
  {
   "cell_type": "markdown",
   "metadata": {},
   "source": [
    "Creating categories on count fequency"
   ]
  },
  {
   "cell_type": "code",
   "execution_count": 39,
   "metadata": {},
   "outputs": [],
   "source": [
    "for index, row in image_count.iterrows():\n",
    "    image_name = index\n",
    "    count = row['count']\n",
    "    # add feature category to image_count dataframe\n",
    "    if count == 0:\n",
    "        image_count.at[image_name, 'category'] = '0'\n",
    "    elif count == 1:\n",
    "        image_count.at[image_name, 'category'] = '1'\n",
    "    elif count == 2:\n",
    "        image_count.at[image_name, 'category'] = '2'\n",
    "    elif count == 3 or count == 4:\n",
    "        image_count.at[image_name, 'category'] = '3'\n",
    "    else :\n",
    "        image_count.at[image_name, 'category'] = '4'\n",
    "\n",
    "    "
   ]
  },
  {
   "cell_type": "code",
   "execution_count": 49,
   "metadata": {},
   "outputs": [
    {
     "name": "stdout",
     "output_type": "stream",
     "text": [
      "category\n",
      "0    219992\n",
      "1      7618\n",
      "2      2544\n",
      "3      1907\n",
      "4      1690\n",
      "Name: count, dtype: int64\n"
     ]
    }
   ],
   "source": [
    "accidents_per_category = image_count['category'].value_counts()\n",
    "print(accidents_per_category)\n"
   ]
  },
  {
   "cell_type": "markdown",
   "metadata": {},
   "source": [
    "### 6: Imageselection\n",
    "We choose foreach category 1500 images and make them in seperated folders."
   ]
  },
  {
   "cell_type": "code",
   "execution_count": 53,
   "metadata": {},
   "outputs": [],
   "source": [
    "import os\n",
    "import random\n",
    "import shutil\n",
    "\n",
    "# Define the main folder path\n",
    "main_folder_path = 'C:\\\\Projekte\\\\TDS\\\\TDS2324-TrafficAccidents\\\\Data\\\\Images\\\\model_img'\n",
    "folder_path_40m = 'C:\\\\Projekte\\\\TDS\\\\TDS2324-TrafficAccidents\\\\Data\\\\Images\\\\40m_img'\n",
    "\n",
    "# Create the main folder if it doesn't exist\n",
    "if not os.path.exists(main_folder_path):\n",
    "    os.makedirs(main_folder_path)\n",
    "\n",
    "\n",
    "def find_subfolder(image_name):\n",
    "    try:\n",
    "        parts = image_name.split(\"_\")\n",
    "        x = parts[0]\n",
    "        y = parts[1].split(\".\")[0]\n",
    "\n",
    "        # replace last 3 digits with 000\n",
    "        x = x[:-3] + \"000\"\n",
    "        y = y[:-3] + \"000\"\n",
    "\n",
    "        subfolder = x + \"_\" + y\n",
    "        return subfolder\n",
    "    except Exception as e:\n",
    "        print(f\"An error occurred with image_name: {image_name}\")\n",
    "        return None\n",
    "\n",
    "# Iterate through each category\n",
    "for category in image_count['category'].unique():\n",
    "    # Create the subfolder path for the category\n",
    "    subfolder_path = os.path.join(main_folder_path, category)\n",
    "    \n",
    "    # Create the subfolder if it doesn't exist\n",
    "    if not os.path.exists(subfolder_path):\n",
    "        os.makedirs(subfolder_path)\n",
    "    \n",
    "    # Get the images for the category\n",
    "    category_images = image_count[image_count['category'] == category].index.tolist()\n",
    "    \n",
    "    # Randomly select 1500 images from the category\n",
    "    selected_images = random.sample(category_images, 1500)\n",
    "    \n",
    "    # Move the selected images to the subfolder\n",
    "    for image in selected_images:\n",
    "        try:\n",
    "            image_path = os.path.join(folder_path_40m, find_subfolder(image), image)\n",
    "            new_image_path = os.path.join(subfolder_path, image)\n",
    "            shutil.copy(image_path, new_image_path)\n",
    "        except Exception as e:\n",
    "            print(f\"An error occurred with image: {image}, folder_path_40m: {folder_path_40m}, subfolder_path: {subfolder_path}\")\n",
    "            continue\n",
    "\n"
   ]
  }
 ],
 "metadata": {
  "kernelspec": {
   "display_name": "Python 3",
   "language": "python",
   "name": "python3"
  },
  "language_info": {
   "codemirror_mode": {
    "name": "ipython",
    "version": 3
   },
   "file_extension": ".py",
   "mimetype": "text/x-python",
   "name": "python",
   "nbconvert_exporter": "python",
   "pygments_lexer": "ipython3",
   "version": "3.11.1"
  }
 },
 "nbformat": 4,
 "nbformat_minor": 2
}
