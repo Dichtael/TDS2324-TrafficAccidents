{
 "cells": [
  {
   "cell_type": "markdown",
   "metadata": {},
   "source": [
    "# Image Aquisation from Bayernportal"
   ]
  },
  {
   "cell_type": "code",
   "execution_count": 1,
   "metadata": {},
   "outputs": [],
   "source": [
    "from pyproj import Proj, transform\n",
    "import xml.etree.ElementTree as ET"
   ]
  },
  {
   "cell_type": "code",
   "execution_count": 8,
   "metadata": {},
   "outputs": [
    {
     "name": "stdout",
     "output_type": "stream",
     "text": [
      "       Latitude  Longitude  count  category\n",
      "5467  48.132088  11.584367      8         6\n",
      "4512  48.139926  11.560705      4         5\n",
      "4346  48.152088  11.582255      4         5\n",
      "2283  48.133439  11.581409      2         3\n",
      "4255  48.075061  11.522677      5         5\n",
      "3316  48.125601  11.590705      3         4\n",
      "4168  48.137493  11.394649      4         5\n",
      "780   48.121818  11.427607      0         1\n",
      "211   48.196142  11.663381      0         1\n",
      "4981  48.123439  11.566621      5         5\n"
     ]
    }
   ],
   "source": [
    "import pandas as pd\n",
    "images = pd.read_csv('C:\\Projekte\\TDS\\TDS2324-TrafficAccidents\\Data\\Images\\selected_img_grid.csv')\n",
    "print(images.sample(10))\n",
    "\n"
   ]
  },
  {
   "cell_type": "code",
   "execution_count": null,
   "metadata": {},
   "outputs": [],
   "source": [
    "# Das hier sind einfach Codeschnippsel von just für https://geodaten.bayern.de/opengeodata/OpenDataDetail.html?pn=dop40\n",
    "tree = ET.parse('/09564000.meta4')#Your File\n",
    "\n",
    "urls = []\n",
    "\n",
    "for file_element intree.findall('.//{urn:ietf:params:xml:ns:metalink}url'):\n",
    "\n",
    "    if any(file_element.text.split(\"data\")[1] in s for s in urls):\n",
    "\n",
    "      continue\n",
    "\n",
    "    else:\n",
    "\n",
    "      urls.append(file_element.text)"
   ]
  },
  {
   "cell_type": "code",
   "execution_count": null,
   "metadata": {},
   "outputs": [],
   "source": [
    "# Noch ein part von just für https://geodaten.bayern.de/opengeodata/OpenDataDetail.html?pn=dop40\n",
    "\n",
    "#32649_5487\n",
    "\n",
    "src_crs = Proj(init='epsg:25832')\n",
    "\n",
    "dest_crs = Proj(init='epsg:4326')\n",
    "\n",
    "# 32649_5487 => x= 649000 y= 5487000 # Remove the 32 for the x Value and add 3 zeroes; For y just add 3 Zeroes\n",
    "\n",
    "# Example coordinates in EPSG:25832\n",
    "\n",
    "x, y = 649000, 5487000 # This is the left bottom coordinate; The Right bottom would be650000, 5487000\n",
    "\n",
    " \n",
    "\n",
    "# Perform the transformation\n",
    "\n",
    "lon, lat = transform(src_crs, dest_crs, x, y)\n",
    "\n",
    " \n",
    "\n",
    "# Print the transformed coordinates in EPSG:4326\n",
    "\n",
    "print(f\" Latitude: {lat}, {lon}\")\n",
    "\n",
    " "
   ]
  }
 ],
 "metadata": {
  "kernelspec": {
   "display_name": "Python 3",
   "language": "python",
   "name": "python3"
  },
  "language_info": {
   "codemirror_mode": {
    "name": "ipython",
    "version": 3
   },
   "file_extension": ".py",
   "mimetype": "text/x-python",
   "name": "python",
   "nbconvert_exporter": "python",
   "pygments_lexer": "ipython3",
   "version": "3.11.1"
  }
 },
 "nbformat": 4,
 "nbformat_minor": 2
}
