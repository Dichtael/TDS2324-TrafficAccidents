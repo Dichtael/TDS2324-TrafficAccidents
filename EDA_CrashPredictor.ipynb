{
  "nbformat": 4,
  "nbformat_minor": 0,
  "metadata": {
    "colab": {
      "provenance": [],
      "authorship_tag": "ABX9TyNBuNHdqUwiLpLt9kRbm7tD",
      "include_colab_link": true
    },
    "kernelspec": {
      "name": "python3",
      "display_name": "Python 3"
    },
    "language_info": {
      "name": "python"
    }
  },
  "cells": [
    {
      "cell_type": "markdown",
      "metadata": {
        "id": "view-in-github",
        "colab_type": "text"
      },
      "source": [
        "<a href=\"https://colab.research.google.com/github/Dichtael/TDS2324-TrafficAccidents/blob/EDA/EDA_CrashPredictor.ipynb\" target=\"_parent\"><img src=\"https://colab.research.google.com/assets/colab-badge.svg\" alt=\"Open In Colab\"/></a>"
      ]
    },
    {
      "cell_type": "markdown",
      "source": [
        "# Predicting Car Crashes in a Given Satellite Image"
      ],
      "metadata": {
        "id": "HOA5O-PC8f_y"
      }
    },
    {
      "cell_type": "markdown",
      "source": [
        "# Identification of the Research Question"
      ],
      "metadata": {
        "id": "neHVo3b09bvB"
      }
    },
    {
      "cell_type": "markdown",
      "source": [
        "In this data analysis we want to build a car crash predictor, that predicts hotspots of car crashes in a satellite immage by outputting the same satellite image with heatmap like markings."
      ],
      "metadata": {
        "id": "m1yY08LM-Z-C"
      }
    },
    {
      "cell_type": "markdown",
      "source": [
        "# Data Collection"
      ],
      "metadata": {
        "id": "00VrEG3U8y6J"
      }
    },
    {
      "cell_type": "code",
      "source": [
        "import pandas as pd\n",
        "import matplotlib.pyplot as plt\n",
        "import seaborn as sns"
      ],
      "metadata": {
        "id": "GP4Qpei9DMET"
      },
      "execution_count": null,
      "outputs": []
    },
    {
      "cell_type": "code",
      "source": [
        "data = pd.read_csv('/content/all_16_22.csv')\n",
        "data.head()"
      ],
      "metadata": {
        "colab": {
          "base_uri": "https://localhost:8080/",
          "height": 241
        },
        "id": "oXgQ0rhR-J5r",
        "outputId": "09d707ac-ec49-469b-b936-39db6feb04f3"
      },
      "execution_count": null,
      "outputs": [
        {
          "output_type": "execute_result",
          "data": {
            "text/plain": [
              "   Unnamed: 0  \\\n",
              "0           0   \n",
              "1           1   \n",
              "2           2   \n",
              "3           3   \n",
              "4           4   \n",
              "\n",
              "   FID;OBJECTID;ULAND;UREGBEZ;UKREIS;UGEMEINDE;UJAHR;UMONAT;USTUNDE;UWOCHENTAG;UKATEGORIE;UART;UTYP1;ULICHTVERH;STRZUSTAND;IstRad;IstPKW;IstFuss;IstKrad;IstGkfz;IstSonstige;LINREFX;LINREFY;XGCSWGS84;YGCSWGS84  \\\n",
              "0                                       7.296149e+14                                                                                                                                                               \n",
              "1                                       2.454526e+14                                                                                                                                                               \n",
              "2                                       8.204025e+14                                                                                                                                                               \n",
              "3                                       8.512431e+14                                                                                                                                                               \n",
              "4                                       2.194586e+14                                                                                                                                                               \n",
              "\n",
              "   OBJECTID;UIDENTSTLA;ULAND;UREGBEZ;UKREIS;UGEMEINDE;UJAHR;UMONAT;USTUNDE;UWOCHENTAG;UKATEGORIE;UART;UTYP1;IstRad;IstPKW;IstFuss;IstKrad;IstSonstige;ULICHTVERH;STRZUSTAND;LINREFX;LINREFY;XGCSWGS84;YGCSWGS84  \\\n",
              "0                                                NaN                                                                                                                                                              \n",
              "1                                                NaN                                                                                                                                                              \n",
              "2                                                NaN                                                                                                                                                              \n",
              "3                                                NaN                                                                                                                                                              \n",
              "4                                                NaN                                                                                                                                                              \n",
              "\n",
              "   OBJECTID_1;ULAND;UREGBEZ;UKREIS;UGEMEINDE;UJAHR;UMONAT;USTUNDE;UWOCHENTAG;UKATEGORIE;UART;UTYP1;ULICHTVERH;IstRad;IstPKW;IstFuss;IstKrad;IstGkfz;IstSonstige;STRZUSTAND;LINREFX;LINREFY;XGCSWGS84;YGCSWGS84  \\\n",
              "0                                                NaN                                                                                                                                                             \n",
              "1                                                NaN                                                                                                                                                             \n",
              "2                                                NaN                                                                                                                                                             \n",
              "3                                                NaN                                                                                                                                                             \n",
              "4                                                NaN                                                                                                                                                             \n",
              "\n",
              "   OBJECTID;ULAND;UREGBEZ;UKREIS;UGEMEINDE;UJAHR;UMONAT;USTUNDE;UWOCHENTAG;UKATEGORIE;UART;UTYP1;ULICHTVERH;IstRad;IstPKW;IstFuss;IstKrad;IstGkfz;IstSonstige;LINREFX;LINREFY;XGCSWGS84;YGCSWGS84;STRZUSTAND  \\\n",
              "0                                                NaN                                                                                                                                                           \n",
              "1                                                NaN                                                                                                                                                           \n",
              "2                                                NaN                                                                                                                                                           \n",
              "3                                                NaN                                                                                                                                                           \n",
              "4                                                NaN                                                                                                                                                           \n",
              "\n",
              "   OBJECTID;UIDENTSTLAE;ULAND;UREGBEZ;UKREIS;UGEMEINDE;UJAHR;UMONAT;USTUNDE;UWOCHENTAG;UKATEGORIE;UART;UTYP1;ULICHTVERH;IstRad;IstPKW;IstFuss;IstKrad;IstGkfz;IstSonstige;LINREFX;LINREFY;XGCSWGS84;YGCSWGS84;STRZUSTAND  \\\n",
              "0                                                NaN                                                                                                                                                                       \n",
              "1                                                NaN                                                                                                                                                                       \n",
              "2                                                NaN                                                                                                                                                                       \n",
              "3                                                NaN                                                                                                                                                                       \n",
              "4                                                NaN                                                                                                                                                                       \n",
              "\n",
              "   OBJECTID;UIDENTSTLAE;ULAND;UREGBEZ;UKREIS;UGEMEINDE;UJAHR;UMONAT;USTUNDE;UWOCHENTAG;UKATEGORIE;UART;UTYP1;ULICHTVERH;STRZUSTAND;IstRad;IstPKW;IstFuss;IstKrad;IstGkfz;IstSonstige;LINREFX;LINREFY;XGCSWGS84;YGCSWGS84  \n",
              "0                                                NaN                                                                                                                                                                      \n",
              "1                                                NaN                                                                                                                                                                      \n",
              "2                                                NaN                                                                                                                                                                      \n",
              "3                                                NaN                                                                                                                                                                      \n",
              "4                                                NaN                                                                                                                                                                      "
            ],
            "text/html": [
              "\n",
              "  <div id=\"df-ea8cd602-5aea-497c-9393-54db96e3bc82\" class=\"colab-df-container\">\n",
              "    <div>\n",
              "<style scoped>\n",
              "    .dataframe tbody tr th:only-of-type {\n",
              "        vertical-align: middle;\n",
              "    }\n",
              "\n",
              "    .dataframe tbody tr th {\n",
              "        vertical-align: top;\n",
              "    }\n",
              "\n",
              "    .dataframe thead th {\n",
              "        text-align: right;\n",
              "    }\n",
              "</style>\n",
              "<table border=\"1\" class=\"dataframe\">\n",
              "  <thead>\n",
              "    <tr style=\"text-align: right;\">\n",
              "      <th></th>\n",
              "      <th>Unnamed: 0</th>\n",
              "      <th>FID;OBJECTID;ULAND;UREGBEZ;UKREIS;UGEMEINDE;UJAHR;UMONAT;USTUNDE;UWOCHENTAG;UKATEGORIE;UART;UTYP1;ULICHTVERH;STRZUSTAND;IstRad;IstPKW;IstFuss;IstKrad;IstGkfz;IstSonstige;LINREFX;LINREFY;XGCSWGS84;YGCSWGS84</th>\n",
              "      <th>OBJECTID;UIDENTSTLA;ULAND;UREGBEZ;UKREIS;UGEMEINDE;UJAHR;UMONAT;USTUNDE;UWOCHENTAG;UKATEGORIE;UART;UTYP1;IstRad;IstPKW;IstFuss;IstKrad;IstSonstige;ULICHTVERH;STRZUSTAND;LINREFX;LINREFY;XGCSWGS84;YGCSWGS84</th>\n",
              "      <th>OBJECTID_1;ULAND;UREGBEZ;UKREIS;UGEMEINDE;UJAHR;UMONAT;USTUNDE;UWOCHENTAG;UKATEGORIE;UART;UTYP1;ULICHTVERH;IstRad;IstPKW;IstFuss;IstKrad;IstGkfz;IstSonstige;STRZUSTAND;LINREFX;LINREFY;XGCSWGS84;YGCSWGS84</th>\n",
              "      <th>OBJECTID;ULAND;UREGBEZ;UKREIS;UGEMEINDE;UJAHR;UMONAT;USTUNDE;UWOCHENTAG;UKATEGORIE;UART;UTYP1;ULICHTVERH;IstRad;IstPKW;IstFuss;IstKrad;IstGkfz;IstSonstige;LINREFX;LINREFY;XGCSWGS84;YGCSWGS84;STRZUSTAND</th>\n",
              "      <th>OBJECTID;UIDENTSTLAE;ULAND;UREGBEZ;UKREIS;UGEMEINDE;UJAHR;UMONAT;USTUNDE;UWOCHENTAG;UKATEGORIE;UART;UTYP1;ULICHTVERH;IstRad;IstPKW;IstFuss;IstKrad;IstGkfz;IstSonstige;LINREFX;LINREFY;XGCSWGS84;YGCSWGS84;STRZUSTAND</th>\n",
              "      <th>OBJECTID;UIDENTSTLAE;ULAND;UREGBEZ;UKREIS;UGEMEINDE;UJAHR;UMONAT;USTUNDE;UWOCHENTAG;UKATEGORIE;UART;UTYP1;ULICHTVERH;STRZUSTAND;IstRad;IstPKW;IstFuss;IstKrad;IstGkfz;IstSonstige;LINREFX;LINREFY;XGCSWGS84;YGCSWGS84</th>\n",
              "    </tr>\n",
              "  </thead>\n",
              "  <tbody>\n",
              "    <tr>\n",
              "      <th>0</th>\n",
              "      <td>0</td>\n",
              "      <td>7.296149e+14</td>\n",
              "      <td>NaN</td>\n",
              "      <td>NaN</td>\n",
              "      <td>NaN</td>\n",
              "      <td>NaN</td>\n",
              "      <td>NaN</td>\n",
              "    </tr>\n",
              "    <tr>\n",
              "      <th>1</th>\n",
              "      <td>1</td>\n",
              "      <td>2.454526e+14</td>\n",
              "      <td>NaN</td>\n",
              "      <td>NaN</td>\n",
              "      <td>NaN</td>\n",
              "      <td>NaN</td>\n",
              "      <td>NaN</td>\n",
              "    </tr>\n",
              "    <tr>\n",
              "      <th>2</th>\n",
              "      <td>2</td>\n",
              "      <td>8.204025e+14</td>\n",
              "      <td>NaN</td>\n",
              "      <td>NaN</td>\n",
              "      <td>NaN</td>\n",
              "      <td>NaN</td>\n",
              "      <td>NaN</td>\n",
              "    </tr>\n",
              "    <tr>\n",
              "      <th>3</th>\n",
              "      <td>3</td>\n",
              "      <td>8.512431e+14</td>\n",
              "      <td>NaN</td>\n",
              "      <td>NaN</td>\n",
              "      <td>NaN</td>\n",
              "      <td>NaN</td>\n",
              "      <td>NaN</td>\n",
              "    </tr>\n",
              "    <tr>\n",
              "      <th>4</th>\n",
              "      <td>4</td>\n",
              "      <td>2.194586e+14</td>\n",
              "      <td>NaN</td>\n",
              "      <td>NaN</td>\n",
              "      <td>NaN</td>\n",
              "      <td>NaN</td>\n",
              "      <td>NaN</td>\n",
              "    </tr>\n",
              "  </tbody>\n",
              "</table>\n",
              "</div>\n",
              "    <div class=\"colab-df-buttons\">\n",
              "\n",
              "  <div class=\"colab-df-container\">\n",
              "    <button class=\"colab-df-convert\" onclick=\"convertToInteractive('df-ea8cd602-5aea-497c-9393-54db96e3bc82')\"\n",
              "            title=\"Convert this dataframe to an interactive table.\"\n",
              "            style=\"display:none;\">\n",
              "\n",
              "  <svg xmlns=\"http://www.w3.org/2000/svg\" height=\"24px\" viewBox=\"0 -960 960 960\">\n",
              "    <path d=\"M120-120v-720h720v720H120Zm60-500h600v-160H180v160Zm220 220h160v-160H400v160Zm0 220h160v-160H400v160ZM180-400h160v-160H180v160Zm440 0h160v-160H620v160ZM180-180h160v-160H180v160Zm440 0h160v-160H620v160Z\"/>\n",
              "  </svg>\n",
              "    </button>\n",
              "\n",
              "  <style>\n",
              "    .colab-df-container {\n",
              "      display:flex;\n",
              "      gap: 12px;\n",
              "    }\n",
              "\n",
              "    .colab-df-convert {\n",
              "      background-color: #E8F0FE;\n",
              "      border: none;\n",
              "      border-radius: 50%;\n",
              "      cursor: pointer;\n",
              "      display: none;\n",
              "      fill: #1967D2;\n",
              "      height: 32px;\n",
              "      padding: 0 0 0 0;\n",
              "      width: 32px;\n",
              "    }\n",
              "\n",
              "    .colab-df-convert:hover {\n",
              "      background-color: #E2EBFA;\n",
              "      box-shadow: 0px 1px 2px rgba(60, 64, 67, 0.3), 0px 1px 3px 1px rgba(60, 64, 67, 0.15);\n",
              "      fill: #174EA6;\n",
              "    }\n",
              "\n",
              "    .colab-df-buttons div {\n",
              "      margin-bottom: 4px;\n",
              "    }\n",
              "\n",
              "    [theme=dark] .colab-df-convert {\n",
              "      background-color: #3B4455;\n",
              "      fill: #D2E3FC;\n",
              "    }\n",
              "\n",
              "    [theme=dark] .colab-df-convert:hover {\n",
              "      background-color: #434B5C;\n",
              "      box-shadow: 0px 1px 3px 1px rgba(0, 0, 0, 0.15);\n",
              "      filter: drop-shadow(0px 1px 2px rgba(0, 0, 0, 0.3));\n",
              "      fill: #FFFFFF;\n",
              "    }\n",
              "  </style>\n",
              "\n",
              "    <script>\n",
              "      const buttonEl =\n",
              "        document.querySelector('#df-ea8cd602-5aea-497c-9393-54db96e3bc82 button.colab-df-convert');\n",
              "      buttonEl.style.display =\n",
              "        google.colab.kernel.accessAllowed ? 'block' : 'none';\n",
              "\n",
              "      async function convertToInteractive(key) {\n",
              "        const element = document.querySelector('#df-ea8cd602-5aea-497c-9393-54db96e3bc82');\n",
              "        const dataTable =\n",
              "          await google.colab.kernel.invokeFunction('convertToInteractive',\n",
              "                                                    [key], {});\n",
              "        if (!dataTable) return;\n",
              "\n",
              "        const docLinkHtml = 'Like what you see? Visit the ' +\n",
              "          '<a target=\"_blank\" href=https://colab.research.google.com/notebooks/data_table.ipynb>data table notebook</a>'\n",
              "          + ' to learn more about interactive tables.';\n",
              "        element.innerHTML = '';\n",
              "        dataTable['output_type'] = 'display_data';\n",
              "        await google.colab.output.renderOutput(dataTable, element);\n",
              "        const docLink = document.createElement('div');\n",
              "        docLink.innerHTML = docLinkHtml;\n",
              "        element.appendChild(docLink);\n",
              "      }\n",
              "    </script>\n",
              "  </div>\n",
              "\n",
              "\n",
              "<div id=\"df-aeb2f223-b1da-4aaa-b7d0-ea9b5a3c3844\">\n",
              "  <button class=\"colab-df-quickchart\" onclick=\"quickchart('df-aeb2f223-b1da-4aaa-b7d0-ea9b5a3c3844')\"\n",
              "            title=\"Suggest charts\"\n",
              "            style=\"display:none;\">\n",
              "\n",
              "<svg xmlns=\"http://www.w3.org/2000/svg\" height=\"24px\"viewBox=\"0 0 24 24\"\n",
              "     width=\"24px\">\n",
              "    <g>\n",
              "        <path d=\"M19 3H5c-1.1 0-2 .9-2 2v14c0 1.1.9 2 2 2h14c1.1 0 2-.9 2-2V5c0-1.1-.9-2-2-2zM9 17H7v-7h2v7zm4 0h-2V7h2v10zm4 0h-2v-4h2v4z\"/>\n",
              "    </g>\n",
              "</svg>\n",
              "  </button>\n",
              "\n",
              "<style>\n",
              "  .colab-df-quickchart {\n",
              "      --bg-color: #E8F0FE;\n",
              "      --fill-color: #1967D2;\n",
              "      --hover-bg-color: #E2EBFA;\n",
              "      --hover-fill-color: #174EA6;\n",
              "      --disabled-fill-color: #AAA;\n",
              "      --disabled-bg-color: #DDD;\n",
              "  }\n",
              "\n",
              "  [theme=dark] .colab-df-quickchart {\n",
              "      --bg-color: #3B4455;\n",
              "      --fill-color: #D2E3FC;\n",
              "      --hover-bg-color: #434B5C;\n",
              "      --hover-fill-color: #FFFFFF;\n",
              "      --disabled-bg-color: #3B4455;\n",
              "      --disabled-fill-color: #666;\n",
              "  }\n",
              "\n",
              "  .colab-df-quickchart {\n",
              "    background-color: var(--bg-color);\n",
              "    border: none;\n",
              "    border-radius: 50%;\n",
              "    cursor: pointer;\n",
              "    display: none;\n",
              "    fill: var(--fill-color);\n",
              "    height: 32px;\n",
              "    padding: 0;\n",
              "    width: 32px;\n",
              "  }\n",
              "\n",
              "  .colab-df-quickchart:hover {\n",
              "    background-color: var(--hover-bg-color);\n",
              "    box-shadow: 0 1px 2px rgba(60, 64, 67, 0.3), 0 1px 3px 1px rgba(60, 64, 67, 0.15);\n",
              "    fill: var(--button-hover-fill-color);\n",
              "  }\n",
              "\n",
              "  .colab-df-quickchart-complete:disabled,\n",
              "  .colab-df-quickchart-complete:disabled:hover {\n",
              "    background-color: var(--disabled-bg-color);\n",
              "    fill: var(--disabled-fill-color);\n",
              "    box-shadow: none;\n",
              "  }\n",
              "\n",
              "  .colab-df-spinner {\n",
              "    border: 2px solid var(--fill-color);\n",
              "    border-color: transparent;\n",
              "    border-bottom-color: var(--fill-color);\n",
              "    animation:\n",
              "      spin 1s steps(1) infinite;\n",
              "  }\n",
              "\n",
              "  @keyframes spin {\n",
              "    0% {\n",
              "      border-color: transparent;\n",
              "      border-bottom-color: var(--fill-color);\n",
              "      border-left-color: var(--fill-color);\n",
              "    }\n",
              "    20% {\n",
              "      border-color: transparent;\n",
              "      border-left-color: var(--fill-color);\n",
              "      border-top-color: var(--fill-color);\n",
              "    }\n",
              "    30% {\n",
              "      border-color: transparent;\n",
              "      border-left-color: var(--fill-color);\n",
              "      border-top-color: var(--fill-color);\n",
              "      border-right-color: var(--fill-color);\n",
              "    }\n",
              "    40% {\n",
              "      border-color: transparent;\n",
              "      border-right-color: var(--fill-color);\n",
              "      border-top-color: var(--fill-color);\n",
              "    }\n",
              "    60% {\n",
              "      border-color: transparent;\n",
              "      border-right-color: var(--fill-color);\n",
              "    }\n",
              "    80% {\n",
              "      border-color: transparent;\n",
              "      border-right-color: var(--fill-color);\n",
              "      border-bottom-color: var(--fill-color);\n",
              "    }\n",
              "    90% {\n",
              "      border-color: transparent;\n",
              "      border-bottom-color: var(--fill-color);\n",
              "    }\n",
              "  }\n",
              "</style>\n",
              "\n",
              "  <script>\n",
              "    async function quickchart(key) {\n",
              "      const quickchartButtonEl =\n",
              "        document.querySelector('#' + key + ' button');\n",
              "      quickchartButtonEl.disabled = true;  // To prevent multiple clicks.\n",
              "      quickchartButtonEl.classList.add('colab-df-spinner');\n",
              "      try {\n",
              "        const charts = await google.colab.kernel.invokeFunction(\n",
              "            'suggestCharts', [key], {});\n",
              "      } catch (error) {\n",
              "        console.error('Error during call to suggestCharts:', error);\n",
              "      }\n",
              "      quickchartButtonEl.classList.remove('colab-df-spinner');\n",
              "      quickchartButtonEl.classList.add('colab-df-quickchart-complete');\n",
              "    }\n",
              "    (() => {\n",
              "      let quickchartButtonEl =\n",
              "        document.querySelector('#df-aeb2f223-b1da-4aaa-b7d0-ea9b5a3c3844 button');\n",
              "      quickchartButtonEl.style.display =\n",
              "        google.colab.kernel.accessAllowed ? 'block' : 'none';\n",
              "    })();\n",
              "  </script>\n",
              "</div>\n",
              "    </div>\n",
              "  </div>\n"
            ]
          },
          "metadata": {},
          "execution_count": 3
        }
      ]
    },
    {
      "cell_type": "code",
      "source": [
        "data = data.drop(columns=[\"id\"])\n",
        "data = data.dropna(subset=['UJAHR'])\n",
        "data['column_name'].fillna(0, inplace=True)\n",
        "data.head()"
      ],
      "metadata": {
        "colab": {
          "base_uri": "https://localhost:8080/",
          "height": 368
        },
        "id": "-mdExdD4FdoS",
        "outputId": "d5e61854-f4b4-4ce6-c2f7-b4ac5fd1cbbf"
      },
      "execution_count": null,
      "outputs": [
        {
          "output_type": "error",
          "ename": "KeyError",
          "evalue": "\"['id'] not found in axis\"",
          "traceback": [
            "\u001b[0;31m---------------------------------------------------------------------------\u001b[0m",
            "\u001b[0;31mKeyError\u001b[0m                                  Traceback (most recent call last)",
            "\u001b[0;32m<ipython-input-4-cf977901e889>\u001b[0m in \u001b[0;36m<cell line: 1>\u001b[0;34m()\u001b[0m\n\u001b[0;32m----> 1\u001b[0;31m \u001b[0mdata\u001b[0m \u001b[0;34m=\u001b[0m \u001b[0mdata\u001b[0m\u001b[0;34m.\u001b[0m\u001b[0mdrop\u001b[0m\u001b[0;34m(\u001b[0m\u001b[0mcolumns\u001b[0m\u001b[0;34m=\u001b[0m\u001b[0;34m[\u001b[0m\u001b[0;34m\"id\"\u001b[0m\u001b[0;34m]\u001b[0m\u001b[0;34m)\u001b[0m\u001b[0;34m\u001b[0m\u001b[0;34m\u001b[0m\u001b[0m\n\u001b[0m\u001b[1;32m      2\u001b[0m \u001b[0mdata\u001b[0m \u001b[0;34m=\u001b[0m \u001b[0mdata\u001b[0m\u001b[0;34m.\u001b[0m\u001b[0mdropna\u001b[0m\u001b[0;34m(\u001b[0m\u001b[0msubset\u001b[0m\u001b[0;34m=\u001b[0m\u001b[0;34m[\u001b[0m\u001b[0;34m'UJAHR'\u001b[0m\u001b[0;34m]\u001b[0m\u001b[0;34m)\u001b[0m\u001b[0;34m\u001b[0m\u001b[0;34m\u001b[0m\u001b[0m\n\u001b[1;32m      3\u001b[0m \u001b[0mdata\u001b[0m\u001b[0;34m[\u001b[0m\u001b[0;34m'column_name'\u001b[0m\u001b[0;34m]\u001b[0m\u001b[0;34m.\u001b[0m\u001b[0mfillna\u001b[0m\u001b[0;34m(\u001b[0m\u001b[0;36m0\u001b[0m\u001b[0;34m,\u001b[0m \u001b[0minplace\u001b[0m\u001b[0;34m=\u001b[0m\u001b[0;32mTrue\u001b[0m\u001b[0;34m)\u001b[0m\u001b[0;34m\u001b[0m\u001b[0;34m\u001b[0m\u001b[0m\n\u001b[1;32m      4\u001b[0m \u001b[0mdata\u001b[0m\u001b[0;34m.\u001b[0m\u001b[0mhead\u001b[0m\u001b[0;34m(\u001b[0m\u001b[0;34m)\u001b[0m\u001b[0;34m\u001b[0m\u001b[0;34m\u001b[0m\u001b[0m\n",
            "\u001b[0;32m/usr/local/lib/python3.10/dist-packages/pandas/util/_decorators.py\u001b[0m in \u001b[0;36mwrapper\u001b[0;34m(*args, **kwargs)\u001b[0m\n\u001b[1;32m    329\u001b[0m                     \u001b[0mstacklevel\u001b[0m\u001b[0;34m=\u001b[0m\u001b[0mfind_stack_level\u001b[0m\u001b[0;34m(\u001b[0m\u001b[0;34m)\u001b[0m\u001b[0;34m,\u001b[0m\u001b[0;34m\u001b[0m\u001b[0;34m\u001b[0m\u001b[0m\n\u001b[1;32m    330\u001b[0m                 )\n\u001b[0;32m--> 331\u001b[0;31m             \u001b[0;32mreturn\u001b[0m \u001b[0mfunc\u001b[0m\u001b[0;34m(\u001b[0m\u001b[0;34m*\u001b[0m\u001b[0margs\u001b[0m\u001b[0;34m,\u001b[0m \u001b[0;34m**\u001b[0m\u001b[0mkwargs\u001b[0m\u001b[0;34m)\u001b[0m\u001b[0;34m\u001b[0m\u001b[0;34m\u001b[0m\u001b[0m\n\u001b[0m\u001b[1;32m    332\u001b[0m \u001b[0;34m\u001b[0m\u001b[0m\n\u001b[1;32m    333\u001b[0m         \u001b[0;31m# error: \"Callable[[VarArg(Any), KwArg(Any)], Any]\" has no\u001b[0m\u001b[0;34m\u001b[0m\u001b[0;34m\u001b[0m\u001b[0m\n",
            "\u001b[0;32m/usr/local/lib/python3.10/dist-packages/pandas/core/frame.py\u001b[0m in \u001b[0;36mdrop\u001b[0;34m(self, labels, axis, index, columns, level, inplace, errors)\u001b[0m\n\u001b[1;32m   5397\u001b[0m                 \u001b[0mweight\u001b[0m  \u001b[0;36m1.0\u001b[0m     \u001b[0;36m0.8\u001b[0m\u001b[0;34m\u001b[0m\u001b[0;34m\u001b[0m\u001b[0m\n\u001b[1;32m   5398\u001b[0m         \"\"\"\n\u001b[0;32m-> 5399\u001b[0;31m         return super().drop(\n\u001b[0m\u001b[1;32m   5400\u001b[0m             \u001b[0mlabels\u001b[0m\u001b[0;34m=\u001b[0m\u001b[0mlabels\u001b[0m\u001b[0;34m,\u001b[0m\u001b[0;34m\u001b[0m\u001b[0;34m\u001b[0m\u001b[0m\n\u001b[1;32m   5401\u001b[0m             \u001b[0maxis\u001b[0m\u001b[0;34m=\u001b[0m\u001b[0maxis\u001b[0m\u001b[0;34m,\u001b[0m\u001b[0;34m\u001b[0m\u001b[0;34m\u001b[0m\u001b[0m\n",
            "\u001b[0;32m/usr/local/lib/python3.10/dist-packages/pandas/util/_decorators.py\u001b[0m in \u001b[0;36mwrapper\u001b[0;34m(*args, **kwargs)\u001b[0m\n\u001b[1;32m    329\u001b[0m                     \u001b[0mstacklevel\u001b[0m\u001b[0;34m=\u001b[0m\u001b[0mfind_stack_level\u001b[0m\u001b[0;34m(\u001b[0m\u001b[0;34m)\u001b[0m\u001b[0;34m,\u001b[0m\u001b[0;34m\u001b[0m\u001b[0;34m\u001b[0m\u001b[0m\n\u001b[1;32m    330\u001b[0m                 )\n\u001b[0;32m--> 331\u001b[0;31m             \u001b[0;32mreturn\u001b[0m \u001b[0mfunc\u001b[0m\u001b[0;34m(\u001b[0m\u001b[0;34m*\u001b[0m\u001b[0margs\u001b[0m\u001b[0;34m,\u001b[0m \u001b[0;34m**\u001b[0m\u001b[0mkwargs\u001b[0m\u001b[0;34m)\u001b[0m\u001b[0;34m\u001b[0m\u001b[0;34m\u001b[0m\u001b[0m\n\u001b[0m\u001b[1;32m    332\u001b[0m \u001b[0;34m\u001b[0m\u001b[0m\n\u001b[1;32m    333\u001b[0m         \u001b[0;31m# error: \"Callable[[VarArg(Any), KwArg(Any)], Any]\" has no\u001b[0m\u001b[0;34m\u001b[0m\u001b[0;34m\u001b[0m\u001b[0m\n",
            "\u001b[0;32m/usr/local/lib/python3.10/dist-packages/pandas/core/generic.py\u001b[0m in \u001b[0;36mdrop\u001b[0;34m(self, labels, axis, index, columns, level, inplace, errors)\u001b[0m\n\u001b[1;32m   4503\u001b[0m         \u001b[0;32mfor\u001b[0m \u001b[0maxis\u001b[0m\u001b[0;34m,\u001b[0m \u001b[0mlabels\u001b[0m \u001b[0;32min\u001b[0m \u001b[0maxes\u001b[0m\u001b[0;34m.\u001b[0m\u001b[0mitems\u001b[0m\u001b[0;34m(\u001b[0m\u001b[0;34m)\u001b[0m\u001b[0;34m:\u001b[0m\u001b[0;34m\u001b[0m\u001b[0;34m\u001b[0m\u001b[0m\n\u001b[1;32m   4504\u001b[0m             \u001b[0;32mif\u001b[0m \u001b[0mlabels\u001b[0m \u001b[0;32mis\u001b[0m \u001b[0;32mnot\u001b[0m \u001b[0;32mNone\u001b[0m\u001b[0;34m:\u001b[0m\u001b[0;34m\u001b[0m\u001b[0;34m\u001b[0m\u001b[0m\n\u001b[0;32m-> 4505\u001b[0;31m                 \u001b[0mobj\u001b[0m \u001b[0;34m=\u001b[0m \u001b[0mobj\u001b[0m\u001b[0;34m.\u001b[0m\u001b[0m_drop_axis\u001b[0m\u001b[0;34m(\u001b[0m\u001b[0mlabels\u001b[0m\u001b[0;34m,\u001b[0m \u001b[0maxis\u001b[0m\u001b[0;34m,\u001b[0m \u001b[0mlevel\u001b[0m\u001b[0;34m=\u001b[0m\u001b[0mlevel\u001b[0m\u001b[0;34m,\u001b[0m \u001b[0merrors\u001b[0m\u001b[0;34m=\u001b[0m\u001b[0merrors\u001b[0m\u001b[0;34m)\u001b[0m\u001b[0;34m\u001b[0m\u001b[0;34m\u001b[0m\u001b[0m\n\u001b[0m\u001b[1;32m   4506\u001b[0m \u001b[0;34m\u001b[0m\u001b[0m\n\u001b[1;32m   4507\u001b[0m         \u001b[0;32mif\u001b[0m \u001b[0minplace\u001b[0m\u001b[0;34m:\u001b[0m\u001b[0;34m\u001b[0m\u001b[0;34m\u001b[0m\u001b[0m\n",
            "\u001b[0;32m/usr/local/lib/python3.10/dist-packages/pandas/core/generic.py\u001b[0m in \u001b[0;36m_drop_axis\u001b[0;34m(self, labels, axis, level, errors, only_slice)\u001b[0m\n\u001b[1;32m   4544\u001b[0m                 \u001b[0mnew_axis\u001b[0m \u001b[0;34m=\u001b[0m \u001b[0maxis\u001b[0m\u001b[0;34m.\u001b[0m\u001b[0mdrop\u001b[0m\u001b[0;34m(\u001b[0m\u001b[0mlabels\u001b[0m\u001b[0;34m,\u001b[0m \u001b[0mlevel\u001b[0m\u001b[0;34m=\u001b[0m\u001b[0mlevel\u001b[0m\u001b[0;34m,\u001b[0m \u001b[0merrors\u001b[0m\u001b[0;34m=\u001b[0m\u001b[0merrors\u001b[0m\u001b[0;34m)\u001b[0m\u001b[0;34m\u001b[0m\u001b[0;34m\u001b[0m\u001b[0m\n\u001b[1;32m   4545\u001b[0m             \u001b[0;32melse\u001b[0m\u001b[0;34m:\u001b[0m\u001b[0;34m\u001b[0m\u001b[0;34m\u001b[0m\u001b[0m\n\u001b[0;32m-> 4546\u001b[0;31m                 \u001b[0mnew_axis\u001b[0m \u001b[0;34m=\u001b[0m \u001b[0maxis\u001b[0m\u001b[0;34m.\u001b[0m\u001b[0mdrop\u001b[0m\u001b[0;34m(\u001b[0m\u001b[0mlabels\u001b[0m\u001b[0;34m,\u001b[0m \u001b[0merrors\u001b[0m\u001b[0;34m=\u001b[0m\u001b[0merrors\u001b[0m\u001b[0;34m)\u001b[0m\u001b[0;34m\u001b[0m\u001b[0;34m\u001b[0m\u001b[0m\n\u001b[0m\u001b[1;32m   4547\u001b[0m             \u001b[0mindexer\u001b[0m \u001b[0;34m=\u001b[0m \u001b[0maxis\u001b[0m\u001b[0;34m.\u001b[0m\u001b[0mget_indexer\u001b[0m\u001b[0;34m(\u001b[0m\u001b[0mnew_axis\u001b[0m\u001b[0;34m)\u001b[0m\u001b[0;34m\u001b[0m\u001b[0;34m\u001b[0m\u001b[0m\n\u001b[1;32m   4548\u001b[0m \u001b[0;34m\u001b[0m\u001b[0m\n",
            "\u001b[0;32m/usr/local/lib/python3.10/dist-packages/pandas/core/indexes/base.py\u001b[0m in \u001b[0;36mdrop\u001b[0;34m(self, labels, errors)\u001b[0m\n\u001b[1;32m   6932\u001b[0m         \u001b[0;32mif\u001b[0m \u001b[0mmask\u001b[0m\u001b[0;34m.\u001b[0m\u001b[0many\u001b[0m\u001b[0;34m(\u001b[0m\u001b[0;34m)\u001b[0m\u001b[0;34m:\u001b[0m\u001b[0;34m\u001b[0m\u001b[0;34m\u001b[0m\u001b[0m\n\u001b[1;32m   6933\u001b[0m             \u001b[0;32mif\u001b[0m \u001b[0merrors\u001b[0m \u001b[0;34m!=\u001b[0m \u001b[0;34m\"ignore\"\u001b[0m\u001b[0;34m:\u001b[0m\u001b[0;34m\u001b[0m\u001b[0;34m\u001b[0m\u001b[0m\n\u001b[0;32m-> 6934\u001b[0;31m                 \u001b[0;32mraise\u001b[0m \u001b[0mKeyError\u001b[0m\u001b[0;34m(\u001b[0m\u001b[0;34mf\"{list(labels[mask])} not found in axis\"\u001b[0m\u001b[0;34m)\u001b[0m\u001b[0;34m\u001b[0m\u001b[0;34m\u001b[0m\u001b[0m\n\u001b[0m\u001b[1;32m   6935\u001b[0m             \u001b[0mindexer\u001b[0m \u001b[0;34m=\u001b[0m \u001b[0mindexer\u001b[0m\u001b[0;34m[\u001b[0m\u001b[0;34m~\u001b[0m\u001b[0mmask\u001b[0m\u001b[0;34m]\u001b[0m\u001b[0;34m\u001b[0m\u001b[0;34m\u001b[0m\u001b[0m\n\u001b[1;32m   6936\u001b[0m         \u001b[0;32mreturn\u001b[0m \u001b[0mself\u001b[0m\u001b[0;34m.\u001b[0m\u001b[0mdelete\u001b[0m\u001b[0;34m(\u001b[0m\u001b[0mindexer\u001b[0m\u001b[0;34m)\u001b[0m\u001b[0;34m\u001b[0m\u001b[0;34m\u001b[0m\u001b[0m\n",
            "\u001b[0;31mKeyError\u001b[0m: \"['id'] not found in axis\""
          ]
        }
      ]
    },
    {
      "cell_type": "markdown",
      "source": [
        "# Exploratory Data Analysis"
      ],
      "metadata": {
        "id": "W1bCvs5o96vT"
      }
    },
    {
      "cell_type": "code",
      "source": [
        "print(data.isnull().sum())"
      ],
      "metadata": {
        "id": "uIdrz5PiNBwJ"
      },
      "execution_count": null,
      "outputs": []
    },
    {
      "cell_type": "code",
      "source": [
        "print(data.info)"
      ],
      "metadata": {
        "id": "_1mDpdGq-JH3"
      },
      "execution_count": null,
      "outputs": []
    },
    {
      "cell_type": "markdown",
      "source": [
        "**Some Summary Statustics to Explore the Scope of the Data**"
      ],
      "metadata": {
        "id": "1s3k52Gbk4cU"
      }
    },
    {
      "cell_type": "code",
      "source": [
        "print(\"In 2013-2017 there were {:,} accidents in ...  .\".format(len(data)))\n",
        "print(\"{:,} of the accidents ended fatally while in {:,} of the cases the passengers survived.\".format(USchwere['fatal'].sum(), USchwere['injured'].sum()+USchwere['minor injury'].sum()))\n",
        "print(\"In {:,} of the crashes the light conditions are poor.\".format(data['ULICHTVERH'].sum()))"
      ],
      "metadata": {
        "id": "Z1XQ5j06ldnY"
      },
      "execution_count": null,
      "outputs": []
    },
    {
      "cell_type": "markdown",
      "source": [
        "# Geographic Analysis"
      ],
      "metadata": {
        "id": "o5VSIti8JbN5"
      }
    },
    {
      "cell_type": "markdown",
      "source": [
        "**Heatmap of Car Crashes in the viewed Region**"
      ],
      "metadata": {
        "id": "zsjuMhRfLc5B"
      }
    },
    {
      "cell_type": "code",
      "source": [
        "longitude = data['ygcswgs84']\n",
        "latitude = data['xgcswgs84']\n",
        "\n",
        "# Erstellung der Heatmap\n",
        "plt.figure(figsize=(10, 6))\n",
        "sns.kdeplot(data[longitude], data[latitude], cmap=\"Reds\", shade=True, bw_adjust=0.5)\n",
        "\n",
        "plt.title('Heatmap von Verkehrsunfällen')\n",
        "plt.xlabel('Längengrad')\n",
        "plt.ylabel('Breitengrad')\n",
        "plt.show()"
      ],
      "metadata": {
        "id": "sdR9e3PVJfBv"
      },
      "execution_count": null,
      "outputs": []
    },
    {
      "cell_type": "markdown",
      "source": [
        "**Distrubution of Crashes in the Viewed Region**"
      ],
      "metadata": {
        "id": "TfjfRtcsLb44"
      }
    },
    {
      "cell_type": "code",
      "source": [
        "plt.figure(figsize=(8,10))\n",
        "plt.scatter(longitude, latitude, s=0.2, alpha=0.2, color='black')\n",
        "plt.title('Traffic accidents in Germany from 2016-2020', fontsize=14)\n",
        "plt.axis('off')\n",
        "plt.show()"
      ],
      "metadata": {
        "id": "CgBsLfxxLQtK"
      },
      "execution_count": null,
      "outputs": []
    },
    {
      "cell_type": "markdown",
      "source": [
        "# Temporal Analysis"
      ],
      "metadata": {
        "id": "UqXGzcMfMM-I"
      }
    },
    {
      "cell_type": "markdown",
      "source": [
        "**Histogram of Crashes over Years and Months**"
      ],
      "metadata": {
        "id": "N7fApF4idNPk"
      }
    },
    {
      "cell_type": "code",
      "source": [
        "# Group by year and month, and calculate the sum of crash counts\n",
        "monthly_crashes = data.groupby(['jahr', 'monat'])['art'].count().reset_index()\n",
        "monthly_crashes['crashes'] = monthly_crashes['art']\n",
        "monthly_crashes = monthly_crashes.drop(columns=['art'])\n",
        "monthly_crashes.head()"
      ],
      "metadata": {
        "id": "hVfw7UU0ji5T"
      },
      "execution_count": null,
      "outputs": []
    },
    {
      "cell_type": "code",
      "source": [
        "monthly_crashes.crashes.sum()"
      ],
      "metadata": {
        "id": "Ya6NwYO0j7wz"
      },
      "execution_count": null,
      "outputs": []
    },
    {
      "cell_type": "code",
      "source": [
        "# Create the histogram\n",
        "plt.figure(figsize=(12, 6))\n",
        "bars = plt.bar(\n",
        "    range(len(monthly_crashes)),\n",
        "    monthly_crashes['crashes'],\n",
        "    tick_label=monthly_crashes.apply(lambda x: f'{x[\"jahr\"]}-{x[\"monat\"]:02d}', axis=1)\n",
        ")\n",
        "\n",
        "# Mark January bars in orange\n",
        "for i, month in enumerate(monthly_crashes['monat']):\n",
        "    if month == 1:  # January\n",
        "        bars[i].set_color('orange')\n",
        "\n",
        "plt.xlabel('Year-Month')\n",
        "plt.ylabel('Crash Count')\n",
        "plt.title('Histogram of Car Crashes by Year-Month')\n",
        "plt.xticks(rotation=90) # Rotate x-axis labels for better visibility\n",
        "plt.tight_layout()\n",
        "plt.show()"
      ],
      "metadata": {
        "id": "s2dsl9CUdLx9"
      },
      "execution_count": null,
      "outputs": []
    },
    {
      "cell_type": "markdown",
      "source": [
        "\n",
        "\n",
        "*   There appear to be peaks in the occurance of crashes in the months of june and may of every year except for 2020, where the highest amount of car crashes occured in sepember\n",
        "*   In general the occurance of car crashes seems to rise throughout the displayed time period\n",
        "*   It becomes more and more logarithmic with tendencies of skewness\n",
        "*   Further, the traffic reduction resulting of pandemic indused quarantine and homeoffice policies can be observed in the plot between the end of 2020 and start 2021\n",
        "\n"
      ],
      "metadata": {
        "id": "ShmRvWqBmhtu"
      }
    },
    {
      "cell_type": "markdown",
      "source": [
        "**Distribution of Crashes throughout the Week**"
      ],
      "metadata": {
        "id": "xFUg8LNb-_ne"
      }
    },
    {
      "cell_type": "code",
      "source": [
        "# Group by day of week, and calculate the sum of crash counts\n",
        "weekly_crashes = data.groupby(['wochentag'])['kategorie'].count().reset_index()\n",
        "weekly_crashes['crashes'] = weekly_crashes['kategorie']\n",
        "weekly_crashes = weekly_crashes.drop(columns=['kategorie'])\n",
        "weekly_crashes.head()"
      ],
      "metadata": {
        "id": "kJm6dwk2_bAf"
      },
      "execution_count": null,
      "outputs": []
    },
    {
      "cell_type": "code",
      "source": [
        "# Create the histogram\n",
        "plt.figure(figsize=(12, 6))\n",
        "bars = plt.bar(\n",
        "    range(len(weekly_crashes)),\n",
        "    weekly_crashes['crashes'],\n",
        "    tick_label=weekly_crashes['wochentag']\n",
        ")\n",
        "\n",
        "plt.xlabel('Days of the Week')\n",
        "plt.ylabel('Crash Count')\n",
        "plt.title('Histogram of Car Crashes throughout the Week')\n",
        "plt.xticks(rotation=45)\n",
        "plt.tight_layout()\n",
        "plt.show()"
      ],
      "metadata": {
        "id": "oSnSHzfl_J2X"
      },
      "execution_count": null,
      "outputs": []
    },
    {
      "cell_type": "markdown",
      "source": [
        "**Distribution over the Course of the Hours of a Day**"
      ],
      "metadata": {
        "id": "5gFaoSNSSCvv"
      }
    },
    {
      "cell_type": "code",
      "source": [
        "# Group by time of day, and calculate the sum of crash counts\n",
        "daily_crashes = data.groupby(['stunde'])['kategorie'].count().reset_index()\n",
        "daily_crashes['crashes'] = daily_crashes['kategorie']\n",
        "daily_crashes = daily_crashes.drop(columns=['kategorie'])\n",
        "daily_crashes.head()"
      ],
      "metadata": {
        "id": "UNQSwz4zSoj9"
      },
      "execution_count": null,
      "outputs": []
    },
    {
      "cell_type": "code",
      "source": [
        "# Create the histogram\n",
        "plt.figure(figsize=(12, 6))\n",
        "bars = plt.bar(\n",
        "    range(len(daily_crashes)),\n",
        "    daily_crashes['crashes'],\n",
        "    tick_label=daily_crashes['stunde']\n",
        ")\n",
        "\n",
        "plt.xlabel('Hour of the day')\n",
        "plt.ylabel('Crash Count')\n",
        "plt.title('Histogram of Car Crashes throughout the Day')\n",
        "plt.xticks(rotation=45)\n",
        "plt.tight_layout()\n",
        "plt.show()"
      ],
      "metadata": {
        "id": "nOgUZ-bYSZbM"
      },
      "execution_count": null,
      "outputs": []
    },
    {
      "cell_type": "markdown",
      "source": [
        "# Type and nature of Accidents"
      ],
      "metadata": {
        "id": "J9pn9QpcTjsk"
      }
    },
    {
      "cell_type": "code",
      "source": [
        "# Group by time of day, and calculate the sum of crash counts\n",
        "typ_crashes = data.groupby(['typ'])['kategorie'].count().reset_index()\n",
        "typ_crashes['crashes'] = typ_crashes['kategorie']\n",
        "typ_crashes = typ_crashes.drop(columns=['kategorie'])\n",
        "data['typ'] = data['typ'].replace(1, 'Fahrunfall')\n",
        "data['typ'] = data['typ'].replace(2, 'Abbiegeunfall')\n",
        "data['typ'] = data['typ'].replace(3, 'Kreuzen-Unfall')\n",
        "data['typ'] = data['typ'].replace(4, 'Überschreiten-Unfall')\n",
        "data['typ'] = data['typ'].replace(5, 'Unfall durch ruhenden Verkehr')\n",
        "data['typ'] = data['typ'].replace(6, 'Unfall im Längsverkehr')\n",
        "data['typ'] = data['typ'].replace(7, 'sonstiger Unfall')\n",
        "typ_crashes.head()"
      ],
      "metadata": {
        "id": "hiqT3psfUN41"
      },
      "execution_count": null,
      "outputs": []
    },
    {
      "cell_type": "code",
      "source": [
        "# Create the histogram\n",
        "plt.figure(figsize=(12, 6))\n",
        "bars = plt.bar(\n",
        "    range(len(monthly_crashes)),\n",
        "    typ_crashes['crashes'],\n",
        "    tick_label=typ_crashes['typ']\n",
        ")\n",
        "\n",
        "plt.xlabel('Hour of the day')\n",
        "plt.ylabel('Crash Count')\n",
        "plt.title('Histogram of Car Crashes throughout the Day')\n",
        "plt.xticks(rotation=45)\n",
        "plt.tight_layout()\n",
        "plt.show()"
      ],
      "metadata": {
        "id": "ui59Uwe-TyzX"
      },
      "execution_count": null,
      "outputs": []
    },
    {
      "cell_type": "markdown",
      "source": [
        "**Relationship between Nature of the Accident and Vehicle Type**"
      ],
      "metadata": {
        "id": "4GSQeBJvfxrF"
      }
    },
    {
      "cell_type": "code",
      "source": [
        "# Group by time of day, and calculate the sum of crash counts\n",
        "\n",
        "typ_crashes = data['typ', 'ist_rad', 'ist_pkw', 'ist_fuss', 'ist_gkfz', 'ist_sonstige', 'ist_krad']\n",
        "typ_crashes['crashes'] = typ_crashes['kategorie']\n",
        "typ_crashes = typ_crashes.drop(columns=['kategorie'])\n",
        "data['typ'] = data['typ'].replace(1, 'Fahrunfall')\n",
        "data['typ'] = data['typ'].replace(2, 'Abbiegeunfall')\n",
        "data['typ'] = data['typ'].replace(3, 'Kreuzen-Unfall')\n",
        "data['typ'] = data['typ'].replace(4, 'Überschreiten-Unfall')\n",
        "data['typ'] = data['typ'].replace(5, 'Unfall durch ruhenden Verkehr')\n",
        "data['typ'] = data['typ'].replace(6, 'Unfall im Längsverkehr')\n",
        "data['typ'] = data['typ'].replace(7, 'sonstiger Unfall')\n",
        "typ_crashes.head()"
      ],
      "metadata": {
        "id": "L5h0rRU0grvZ"
      },
      "execution_count": null,
      "outputs": []
    },
    {
      "cell_type": "code",
      "source": [
        "sns.relplot(data=data, x=\"typ\", y=\"tip\")"
      ],
      "metadata": {
        "id": "n3OQqkCCgMpf"
      },
      "execution_count": null,
      "outputs": []
    },
    {
      "cell_type": "markdown",
      "source": [
        "**Distribution of Numerical Values**"
      ],
      "metadata": {
        "id": "cioFpaf4hGqa"
      }
    },
    {
      "cell_type": "code",
      "source": [
        "data['kategorie'] = data['kategorie'].replace(0, 'daylight')\n",
        "data['kategorie'] = data['kategorie'].replace(1, 'dawn')\n",
        "data['kategorie'] = data['kategorie'].replace(2, 'darkness')"
      ],
      "metadata": {
        "id": "kVb1jm0VeIFE"
      },
      "execution_count": null,
      "outputs": []
    },
    {
      "cell_type": "code",
      "source": [
        "data['kategorie'] = data['kategorie'].replace(1, 'fatal')\n",
        "data['kategorie'] = data['kategorie'].replace(2, 'severe')\n",
        "data['kategorie'] = data['kategorie'].replace(3, 'minor')"
      ],
      "metadata": {
        "id": "ZvF630m2yfWn"
      },
      "execution_count": null,
      "outputs": []
    },
    {
      "cell_type": "code",
      "source": [
        "data.hist(figsize=(16, 20), bins=50, xlabelsize=8, ylabelsize=8);"
      ],
      "metadata": {
        "id": "czrAgo36hTQd"
      },
      "execution_count": null,
      "outputs": []
    },
    {
      "cell_type": "markdown",
      "source": [
        "\n",
        "\n",
        "*   ULAND 9, UREGBEZ 2 und UKREIS 61(?) ist am häufigsten Unfallort\n",
        "* UKATEGORIE 3, UART 5 und UTYP1 6 sind am häufigsten\n",
        "*   Feiertagsverkehr (14-17) verursacht die meisten Unfälle\n",
        "*   2019 und Juni sind das Jahr und Monat mit den meisten Unfällen\n",
        "\n"
      ],
      "metadata": {
        "id": "b-T7148Nqfd2"
      }
    },
    {
      "cell_type": "markdown",
      "source": [
        "**Percentage of each Object of Transportation in Realtion to the Absolute Number of Car Crashes**"
      ],
      "metadata": {
        "id": "OutanveQhNez"
      }
    },
    {
      "cell_type": "code",
      "source": [
        "isBike = data.ist_rad.sum()\n",
        "isPkw = data.ist_pkw.sum()\n",
        "isPedestrian = data.ist_fuss.sum()\n",
        "isGkfz = data.ist_gkfz.sum()\n",
        "isKbike = data.ist_krad.sum()\n",
        "isElse = data.ist_sonstige.sum()\n",
        "\n",
        "sum = isBike + isPkw + isPedestrian + isGkfz + isKbike + isElse\n",
        "labels = ['Bike', 'Car', 'Person', 'Truck', 'Motorbike', 'Others']\n",
        "sizes = [isBike/sum, isPkw/sum, isPedestrian/sum, isGkfz/sum, isKbike/sum, isElse/sum]\n",
        "\n",
        "fig, ax = plt.subplots()\n",
        "ax.pie(sizes, labels=labels)"
      ],
      "metadata": {
        "id": "0ruRAG0Trtnj"
      },
      "execution_count": null,
      "outputs": []
    },
    {
      "cell_type": "markdown",
      "source": [
        "\n",
        "\n",
        "*   Cars are involved in more than half of the total crashes\n",
        "*   Bikes are involved in a little less than a fourth of the cases\n",
        "\n"
      ],
      "metadata": {
        "id": "nfmg00e_v6aV"
      }
    },
    {
      "cell_type": "markdown",
      "source": [
        "# Data Analysis"
      ],
      "metadata": {
        "id": "XQ44_P0R85HU"
      }
    },
    {
      "cell_type": "code",
      "execution_count": null,
      "metadata": {
        "id": "rTo4f0rV8KzV"
      },
      "outputs": [],
      "source": []
    }
  ]
}